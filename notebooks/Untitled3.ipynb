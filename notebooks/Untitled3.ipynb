{
 "cells": [
  {
   "cell_type": "code",
   "execution_count": null,
   "metadata": {},
   "outputs": [],
   "source": [
    "import sqlite3\n",
    "import pandas as pd\n",
    "\n",
    "##########     ANA: acquisition.py\n",
    "\n",
    "def acquisition(file):\n",
    "    # using the relative path to create the engine:\n",
    "    eng = create_engine('sqlite:///../data/raw/almsasantos.db')\n",
    "    business_info = pd.read_sql_table('business_info', con=eng)\n",
    "    personal_info = pd.read_sql_table('personal_info', con=eng)\n",
    "    rank_info = pd.read_sql_table('rank_info', con=eng)\n",
    "    df = pd.merge(pd.merge(business_info, personal_info, on='id'), rank_info, on='id')\n",
    "    return df.to_csv(file)\n",
    "\n",
    "def reading_csv(df):\n",
    "    df = pd.read_csv(df)\n",
    "    return df\n",
    "\n",
    "##########  YO\n",
    "\n",
    "acquisition('df')\n",
    "\n",
    "\n",
    "df = sqlite3.connect('/Users/MIGUEL/Desktop/CLAB1/Ironhack-Module-1-Project---Pipelines-/data/raw/Miguel318.db')\n",
    "df_business_info = pd.read_sql_query(\"SELECT * FROM business_info\", df)\n",
    "df_personal_info = pd.read_sql_query(\"SELECT * FROM personal_info\", df)\n",
    "df_rank_info = pd.read_sql_query(\"SELECT * FROM rank_info\", df)\n",
    "\n",
    "df_business_info = pd.read_csv('/Users/MIGUEL/Desktop/CLAB1/Ironhack-Module-1-Project---Pipelines-/data/df_business_info.csv')\n",
    "df_personal_info = pd.read_csv('/Users/MIGUEL/Desktop/CLAB1/Ironhack-Module-1-Project---Pipelines-/data/df_personal_info.csv')\n",
    "df_rank_info = pd.read_csv('/Users/MIGUEL/Desktop/CLAB1/Ironhack-Module-1-Project---Pipelines-/data/df_rank_info.csv')\n",
    "    \n",
    "\n",
    "    \n",
    "    \n",
    "    \n",
    "    "
   ]
  }
 ],
 "metadata": {
  "kernelspec": {
   "display_name": "Python 3",
   "language": "python",
   "name": "python3"
  },
  "language_info": {
   "codemirror_mode": {
    "name": "ipython",
    "version": 3
   },
   "file_extension": ".py",
   "mimetype": "text/x-python",
   "name": "python",
   "nbconvert_exporter": "python",
   "pygments_lexer": "ipython3",
   "version": "3.7.5"
  }
 },
 "nbformat": 4,
 "nbformat_minor": 2
}
