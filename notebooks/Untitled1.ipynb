{
 "cells": [
  {
   "cell_type": "code",
   "execution_count": 1,
   "metadata": {},
   "outputs": [],
   "source": [
    "import sqlite3\n",
    "import pandas as pd\n",
    "import numpy as np\n",
    "import re\n",
    "import datetime\n",
    "import os\n",
    "import requests\n",
    "from bs4 import BeautifulSoup"
   ]
  },
  {
   "cell_type": "code",
   "execution_count": 2,
   "metadata": {},
   "outputs": [],
   "source": [
    "#Drop columns function:\n",
    "def drop (df, list_of_columns):   \n",
    "    df1 = df.drop(list_of_columns, axis=1)\n",
    "    return df1"
   ]
  },
  {
   "cell_type": "code",
   "execution_count": 3,
   "metadata": {},
   "outputs": [],
   "source": [
    "#Replacement incorrect values - wrangling: col1,worth, col2,worthchange:\n",
    "def replacement (df, col1, col2):\n",
    "    df[col1].replace({\"BUSD\": ' '})\n",
    "    df[col1].replace('na', '0.0', regex=True, inplace=True)\n",
    "    df[col1].replace('[BUSD]+$', '', regex=True, inplace=True)\n",
    "    df[col2].replace('[millions USD]+$', '', regex=True, inplace=True)\n",
    "    df[col2].astype('float').astype('int')\n",
    "    df[col2].astype('float').astype('int')\n",
    "    return df"
   ]
  },
  {
   "cell_type": "code",
   "execution_count": 4,
   "metadata": {},
   "outputs": [],
   "source": [
    "#Changing values - wrangling - gender:\n",
    "def changing_text(df, column):\n",
    "    df[column].replace('[M]+$', 'Male', regex=True, inplace=True)\n",
    "    df[column].replace('[F]+$', 'Female', regex=True, inplace=True)\n",
    "    df[column].astype('object').astype('str')\n",
    "    return df"
   ]
  },
  {
   "cell_type": "code",
   "execution_count": 5,
   "metadata": {},
   "outputs": [],
   "source": [
    "#Replacemente non values - wrangling - country:\n",
    "def non_values(df, column):\n",
    "    df[column].replace('None', np.nan, regex=True, inplace=True)\n",
    "    df_no_null_values = df[df[column].isnull()] \n",
    "    df.drop(df[df[column].isnull()].index, inplace = True)\n",
    "    return df"
   ]
  },
  {
   "cell_type": "code",
   "execution_count": 6,
   "metadata": {},
   "outputs": [],
   "source": [
    "  #To expand the database I used a wikipedia page, data obtained through WebScrapping:\n",
    "\n",
    "    #Extract URL - Scrapper:\n",
    "\n",
    "#url = 'https://en.wikipedia.org/wiki/List_of_countries_and_dependencies_by_population'  \n",
    "def web_scraping(url):\n",
    "    \n",
    "    html = requests.get(url).content\n",
    "    soup = BeautifulSoup(html, \"lxml\")\n",
    "\n",
    "    table = soup.find_all('table',{'class':'wikitable sortable mw-datatable'})[0]\n",
    "\n",
    "        # tr represent the table rows:\n",
    "    rows = table.find_all('tr')\n",
    "    rows_parsed = [row.text for row in rows]\n",
    "    return rows_parsed\n",
    "\n",
    "        #Parsering:\n",
    "\n",
    "def smart_parser(row_text):\n",
    "    row_text = row_text.replace('\\nPopulation\\n\\n\\n', '\\nPopulation\\n').strip('\\n')\n",
    "    row_text = row_text.replace('\\n\\n', '\\n').strip('\\n')\n",
    "    row_text = row_text.replace('\\nPopulation\\n% of World\\n', '\\nPopulation % of World\\n').strip('\\n')\n",
    "    row_text = re.sub('\\[\\d\\]', '', row_text)\n",
    "    \n",
    "    return list(map(lambda x: x.strip(), row_text.split('\\n')))\n",
    "\n",
    "def well_parsed(rows_parsed):\n",
    "    parsed = list(map(lambda x: smart_parser(x), rows_parsed))\n",
    "    colnames = parsed[0]\n",
    "    data = parsed[1:]\n",
    "    return data\n",
    "\n",
    "def wrg_scraping_data(data):  ##DUDA\n",
    "    data['Country(or dependent territory)']=data['Country(or dependent territory)'].replace(['\\[(.*?)\\]','\\(([^\\)]+)\\)'], ['',''], regex=True)\n",
    "    data.columns = ['Rank', 'country','Population',' % of World Population','Date','Source']    \n",
    "    data_scraping_clean = pd.DataFrame(data, columns=colnames)\n",
    "    return data_scraping_clean\n",
    "    \n",
    "def exporting(dataset):\n",
    "    data_scraping_clean=pd.merge(data_scraping_clean, df, on=['country', 'country'])      \n",
    "    dataset_clean.to_csv('/Users/MIGUEL/Desktop/CLAB1/Ironhack-Module-1-Project---Pipelines-/data/processed/df_scrapping.csv', index=False)\n",
    "    return dataset_clean"
   ]
  },
  {
   "cell_type": "code",
   "execution_count": null,
   "metadata": {},
   "outputs": [],
   "source": []
  }
 ],
 "metadata": {
  "kernelspec": {
   "display_name": "Python 3",
   "language": "python",
   "name": "python3"
  },
  "language_info": {
   "codemirror_mode": {
    "name": "ipython",
    "version": 3
   },
   "file_extension": ".py",
   "mimetype": "text/x-python",
   "name": "python",
   "nbconvert_exporter": "python",
   "pygments_lexer": "ipython3",
   "version": "3.7.5"
  }
 },
 "nbformat": 4,
 "nbformat_minor": 2
}
