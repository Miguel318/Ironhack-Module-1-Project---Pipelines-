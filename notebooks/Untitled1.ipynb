{
 "cells": [
  {
   "cell_type": "code",
   "execution_count": 42,
   "metadata": {},
   "outputs": [
    {
     "name": "stdout",
     "output_type": "stream",
     "text": [
      "52\n"
     ]
    },
    {
     "data": {
      "text/html": [
       "<div>\n",
       "<style scoped>\n",
       "    .dataframe tbody tr th:only-of-type {\n",
       "        vertical-align: middle;\n",
       "    }\n",
       "\n",
       "    .dataframe tbody tr th {\n",
       "        vertical-align: top;\n",
       "    }\n",
       "\n",
       "    .dataframe thead th {\n",
       "        text-align: right;\n",
       "    }\n",
       "</style>\n",
       "<table border=\"1\" class=\"dataframe\">\n",
       "  <thead>\n",
       "    <tr style=\"text-align: right;\">\n",
       "      <th></th>\n",
       "      <th>id</th>\n",
       "      <th>name</th>\n",
       "      <th>position</th>\n",
       "    </tr>\n",
       "  </thead>\n",
       "  <tbody>\n",
       "    <tr>\n",
       "      <th>417</th>\n",
       "      <td>3718</td>\n",
       "      <td>jim davis</td>\n",
       "      <td>366</td>\n",
       "    </tr>\n",
       "    <tr>\n",
       "      <th>525</th>\n",
       "      <td>1661</td>\n",
       "      <td>robert miller</td>\n",
       "      <td>474</td>\n",
       "    </tr>\n",
       "    <tr>\n",
       "      <th>913</th>\n",
       "      <td>7556</td>\n",
       "      <td>jim davis</td>\n",
       "      <td>862</td>\n",
       "    </tr>\n",
       "    <tr>\n",
       "      <th>996</th>\n",
       "      <td>5650</td>\n",
       "      <td>robert miller</td>\n",
       "      <td>945</td>\n",
       "    </tr>\n",
       "  </tbody>\n",
       "</table>\n",
       "</div>"
      ],
      "text/plain": [
       "       id           name position\n",
       "417  3718      jim davis      366\n",
       "525  1661  robert miller      474\n",
       "913  7556      jim davis      862\n",
       "996  5650  robert miller      945"
      ]
     },
     "execution_count": 42,
     "metadata": {},
     "output_type": "execute_result"
    }
   ],
   "source": [
    "import sqlite3\n",
    "import pandas as pd\n",
    "import re\n",
    "\n",
    "df = sqlite3.connect('/Users/MIGUEL/Desktop/CLAB1/Ironhack-Module-1-Project---Pipelines-/data/raw/Miguel318.db')\n",
    "\n",
    "dfRI = pd.read_sql_query(\"SELECT * FROM rank_info\", df)\n",
    "dfRI\n",
    "\n",
    "#Wrangling rank_info\n",
    "    #eliminating columns that do not add value (id, Unnamed:0)\n",
    "\n",
    "#dfRI.drop(['id'], axis='columns', inplace=True)\n",
    "dfRI.drop(['Unnamed: 0'], axis='columns', inplace=True)\n",
    "\n",
    "    #Wrangling - \"position column\"\n",
    "\n",
    "print(dfRI.position.isnull().sum())   #Only 52 NaN values, not proceed delete column\n",
    "\n",
    "dfRI['position'] = dfRI['position'].fillna(0)   #replance NaN values with 0.0\n",
    "dfRI['position'] = dfRI['position'].astype('float').astype('int')  #replacement float values with int\n",
    "\n",
    "\n",
    "#convert all characters to lowercase in column name\n",
    "\n",
    "dfRI = dfRI.apply(lambda x: x.astype(str).str.lower())\n",
    "dfRI\n",
    "\n",
    "#analyzing types of values to see the next cleaning stage\n",
    "dfRI.describe()     #we can verify that we have duplicate elements so we must eliminate them but taking care that we eliminate the correct one and that it contributes less value to the dataframe. \n",
    "\n",
    "dfRI[dfRI['name'].duplicated(keep=False)]\n",
    "\n"
   ]
  },
  {
   "cell_type": "code",
   "execution_count": null,
   "metadata": {},
   "outputs": [],
   "source": []
  }
 ],
 "metadata": {
  "kernelspec": {
   "display_name": "Python 3",
   "language": "python",
   "name": "python3"
  },
  "language_info": {
   "codemirror_mode": {
    "name": "ipython",
    "version": 3
   },
   "file_extension": ".py",
   "mimetype": "text/x-python",
   "name": "python",
   "nbconvert_exporter": "python",
   "pygments_lexer": "ipython3",
   "version": "3.7.3"
  }
 },
 "nbformat": 4,
 "nbformat_minor": 2
}
