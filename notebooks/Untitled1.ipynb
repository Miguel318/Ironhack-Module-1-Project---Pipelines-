{
 "cells": [
  {
   "cell_type": "code",
   "execution_count": null,
   "metadata": {},
   "outputs": [],
   "source": [
    "import smtplib\n",
    "from email.mime.multipart import MIMEMultipart\n",
    "from email.mime.text import MIMEText\n",
    "from email.mime.application import MIMEApplication\n",
    "from os.path import basename\n",
    "import email\n",
    "import re\n",
    "import os\n",
    "from dotenv import load_dotenv\n",
    "load_dotenv()\n",
    "\n",
    "def send(archive, period):\n",
    "    if not \"emailPassword\" in os.environ:\n",
    "        raise ValueError(\"You should pass a email password\")\n",
    "\n",
    "    gmail_user = os.environ[\"email\"]\n",
    "    gmail_password = os.environ[\"emailPassword\"]\n",
    "\n",
    "    try:  \n",
    "        server = smtplib.SMTP_SSL('smtp.gmail.com', 465)\n",
    "        server.ehlo()\n",
    "        server.login(gmail_user, gmail_password)\n",
    "        print(\"Connected to gmail servers\")\n",
    "    except:  \n",
    "        print(\"Something went wrong...\")\n",
    "\n",
    "    from_mail = gmail_user\n",
    "    to = input(\"Who should receive the mail?:  \")\n",
    "    while not re.match(r\"[^@]+@[^@]+\\.[^@]+\", to):\n",
    "        print(\"Invalid email...\")\n",
    "        to = input(\"Try again:  \")\n",
    "    print('Sending email to {}'.format(to))\n",
    "    html = \"Hello, here you have the inform generated from the data analysis of suicides between {} and 2014. Enjoy it!\".format(period)\n",
    "    msg = MIMEMultipart('mixed')\n",
    "    msg['Subject'] = \"Pipelines Project Inform {}-2014\".format(period)\n",
    "    msg['From'] = from_mail\n",
    "    msg['To'] = to\n",
    "    HTML_Contents = MIMEText(html, 'html')\n",
    "    filename = archive\n",
    "    fo=open(filename,'rb')\n",
    "    attach = email.mime.application.MIMEApplication(fo.read(),_subtype=\"pdf\")\n",
    "    fo.close()\n",
    "    attach.add_header('Content-Disposition','attachment',filename='Pipeline project Inform')\n",
    "    msg.attach(attach)\n",
    "    msg.attach(HTML_Contents)\n",
    "    server.sendmail(msg['From'], msg['To'], msg.as_string())\n",
    "    print('Look in your email inbox, there you have!')\n",
    "    server.close()\n",
    "\n",
    "def emailing(a,y):\n",
    "    send(a,y)"
   ]
  }
 ],
 "metadata": {
  "kernelspec": {
   "display_name": "Python 3",
   "language": "python",
   "name": "python3"
  },
  "language_info": {
   "codemirror_mode": {
    "name": "ipython",
    "version": 3
   },
   "file_extension": ".py",
   "mimetype": "text/x-python",
   "name": "python",
   "nbconvert_exporter": "python",
   "pygments_lexer": "ipython3",
   "version": "3.7.5"
  }
 },
 "nbformat": 4,
 "nbformat_minor": 2
}
