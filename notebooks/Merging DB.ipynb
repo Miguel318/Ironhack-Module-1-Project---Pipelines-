{
 "cells": [
  {
   "cell_type": "code",
   "execution_count": 1,
   "metadata": {},
   "outputs": [],
   "source": [
    "import pandas as pd\n",
    "\n",
    "#Extracting data:\n",
    "\n",
    "df1 = pd.read_csv('/Users/MIGUEL/Desktop/CLAB1/Ironhack-Module-1-Project---Pipelines-/data/processed/dfPersonalInfoCLEAN.csv')\n",
    "df2 = pd.read_csv('/Users/MIGUEL/Desktop/CLAB1/Ironhack-Module-1-Project---Pipelines-/data/processed/dfrankinfoCLEAN.csv')\n",
    "df3 = pd.read_csv('/Users/MIGUEL/Desktop/CLAB1/Ironhack-Module-1-Project---Pipelines-/data/processed/dfBussinesInfoCLEAN.csv')\n",
    "\n",
    "#Merging tables:\n",
    "df4 = pd.merge(df1, df2, on=['id', 'id'])\n",
    "df_total = pd.merge(df4, df3, on=['id', 'id'])\n",
    "\n",
    "#eliminating columns that do not add value ('id')\n",
    "df_total.drop(['id'], axis='columns', inplace=True)\n",
    "\n",
    "#Exporting clean data: \n",
    "\n",
    "df_total.to_csv('/Users/MIGUEL/Desktop/CLAB1/Ironhack-Module-1-Project---Pipelines-/data/processed/df_totalCLEAN.csv', index=False)\n",
    "df_total\n",
    "\n"
   ]
  },
  {
   "cell_type": "code",
   "execution_count": null,
   "metadata": {},
   "outputs": [],
   "source": []
  },
  {
   "cell_type": "code",
   "execution_count": null,
   "metadata": {},
   "outputs": [],
   "source": []
  }
 ],
 "metadata": {
  "kernelspec": {
   "display_name": "Python 3",
   "language": "python",
   "name": "python3"
  },
  "language_info": {
   "codemirror_mode": {
    "name": "ipython",
    "version": 3
   },
   "file_extension": ".py",
   "mimetype": "text/x-python",
   "name": "python",
   "nbconvert_exporter": "python",
   "pygments_lexer": "ipython3",
   "version": "3.7.5"
  }
 },
 "nbformat": 4,
 "nbformat_minor": 2
}
