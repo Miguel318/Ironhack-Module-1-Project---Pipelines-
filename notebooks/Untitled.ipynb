{
 "cells": [
  {
   "cell_type": "code",
   "execution_count": 13,
   "metadata": {},
   "outputs": [
    {
     "ename": "SyntaxError",
     "evalue": "invalid syntax (<ipython-input-13-380e1c5c54f8>, line 55)",
     "output_type": "error",
     "traceback": [
      "\u001b[0;36m  File \u001b[0;32m\"<ipython-input-13-380e1c5c54f8>\"\u001b[0;36m, line \u001b[0;32m55\u001b[0m\n\u001b[0;31m    dfBI['Source'].[duplicated(keep=False)]\u001b[0m\n\u001b[0m                   ^\u001b[0m\n\u001b[0;31mSyntaxError\u001b[0m\u001b[0;31m:\u001b[0m invalid syntax\n"
     ]
    }
   ],
   "source": [
    "#ACQUIRE bussines_info\n",
    "\n",
    "import sqlite3\n",
    "import pandas as pd\n",
    "import numpy as np\n",
    "import re\n",
    "\n",
    "df = sqlite3.connect('/Users/MIGUEL/Desktop/CLAB1/Ironhack-Module-1-Project---Pipelines-/data/raw/Miguel318.db')\n",
    "\n",
    "dfBI = pd.read_sql_query(\"SELECT * FROM business_info\", df)\n",
    "    \n",
    "#WRANGLING bussines_info\n",
    "    #drop realTimeWorth - 100% nulls\n",
    "\n",
    "dfBI.drop(['realTimeWorth'], axis='columns', inplace=True)\n",
    "\n",
    "#eliminating columns that do not add value (id, Unnamed:0, realTimePosition)\n",
    "dfBI.drop(['id'], axis='columns', inplace=True)\n",
    "dfBI.drop(['Unnamed: 0'], axis='columns', inplace=True)\n",
    "dfBI.drop(['realTimePosition'], axis='columns', inplace=True)\n",
    "\n",
    "dfBI.replace({\"BUSD\": ' '})\n",
    "\n",
    "#replacement of 'na' values by 0.0 in wortChange column\n",
    "\n",
    "dfBI.worthChange.replace('na', '0.0', regex=True, inplace=True)\n",
    "\n",
    "#regex - separate numerical values\n",
    "dfBI.worth.replace('[BUSD]+$', '', regex=True, inplace=True)\n",
    "dfBI.worthChange.replace('[millions USD]+$', '', regex=True, inplace=True)\n",
    "\n",
    "#replacement float values with int\n",
    "dfBI['worth'] = dfBI['worth'].astype('float').astype('int')\n",
    "dfBI['worthChange'] = dfBI['worthChange'].astype('float').astype('int')\n",
    "\n",
    "#checking the type of values in columns\n",
    "print(dfBI['worthChange'].dtype)\n",
    "print(dfBI['worth'].dtype)\n",
    "\n",
    "#Analyzing worthChange column composition:\n",
    "print(dfBI['worthChange'].value_counts())\n",
    "print(dfBI['worthChange'].describe())\n",
    "\n",
    "#Once the value_counts () and describe () methods have been performed, we can see that the column is composed of 97.59% of 0 values, however we can see that they include very extreme values in minimums and maximums, and since it is a column That refers to the exchange rates I think it is convenient not to eliminate the column for futures and possible analyzes during the project.\n",
    "\n",
    "#I rename columns to indicate the units in which the values are expressed and not to contaminate the dataset.\n",
    "\n",
    "dfBI = dfBI.rename(columns={'worth':'worth BUSD', 'worthChange':' worthChange millions USD'})\n",
    "dfBI\n",
    "\n",
    "#exporting the clean dataset to the data/processed folder\n",
    "\n",
    "dfBI.to_csv('/Users/MIGUEL/Desktop/CLAB1/Ironhack-Module-1-Project---Pipelines-/data/processed/dfBussinesInfoCLEAN.csv', index=False)\n",
    "\n",
    "\n"
   ]
  },
  {
   "cell_type": "code",
   "execution_count": null,
   "metadata": {},
   "outputs": [],
   "source": [
    "\n"
   ]
  },
  {
   "cell_type": "code",
   "execution_count": null,
   "metadata": {},
   "outputs": [],
   "source": []
  }
 ],
 "metadata": {
  "kernelspec": {
   "display_name": "Python 3",
   "language": "python",
   "name": "python3"
  },
  "language_info": {
   "codemirror_mode": {
    "name": "ipython",
    "version": 3
   },
   "file_extension": ".py",
   "mimetype": "text/x-python",
   "name": "python",
   "nbconvert_exporter": "python",
   "pygments_lexer": "ipython3",
   "version": "3.7.3"
  }
 },
 "nbformat": 4,
 "nbformat_minor": 2
}
