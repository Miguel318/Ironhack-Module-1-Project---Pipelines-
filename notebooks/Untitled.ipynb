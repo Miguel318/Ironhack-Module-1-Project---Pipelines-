{
 "cells": [
  {
   "cell_type": "code",
   "execution_count": null,
   "metadata": {},
   "outputs": [],
   "source": [
    "#Import libraries: \n",
    "import sqlite3\n",
    "import pandas as pd"
   ]
  },
  {
   "cell_type": "code",
   "execution_count": null,
   "metadata": {},
   "outputs": [],
   "source": [
    "def read_sql_table(path,table):\n",
    "    df = sqlite3.connect(path)\n",
    "    df_table = pd.read_sql_query('SELECT * FROM '+table,df)\n",
    "    return df_table"
   ]
  },
  {
   "cell_type": "code",
   "execution_count": null,
   "metadata": {},
   "outputs": [],
   "source": [
    "def read_and_merge(path):\n",
    "    df_business_info = read_sql_table(path, 'business_info')\n",
    "    df_personal_info = read_sql_table(path, 'personal_info')\n",
    "    df_rank_info = read_sql_table(path, 'rank_info')\n",
    "    df4 = pd.merge(df_business_info, df_personal_info, on=['id', 'id'])\n",
    "    df_dirt = pd.merge(df4, df_rank_info, on=['id', 'id'])\n",
    "    df_dirt.to_csv('/Users/MIGUEL/Desktop/CLAB1/Ironhack-Module-1-Project---Pipelines-/data/df_dirt.csv', index=False)\n",
    "    return df_dirt"
   ]
  },
  {
   "cell_type": "code",
   "execution_count": null,
   "metadata": {},
   "outputs": [],
   "source": [
    "df_adquired = read_and_merge('/Users/MIGUEL/Desktop/CLAB1/Ironhack-Module-1-Project---Pipelines-/data/raw/Miguel318.db')"
   ]
  }
 ],
 "metadata": {
  "kernelspec": {
   "display_name": "Python 3",
   "language": "python",
   "name": "python3"
  },
  "language_info": {
   "codemirror_mode": {
    "name": "ipython",
    "version": 3
   },
   "file_extension": ".py",
   "mimetype": "text/x-python",
   "name": "python",
   "nbconvert_exporter": "python",
   "pygments_lexer": "ipython3",
   "version": "3.7.5"
  }
 },
 "nbformat": 4,
 "nbformat_minor": 2
}
