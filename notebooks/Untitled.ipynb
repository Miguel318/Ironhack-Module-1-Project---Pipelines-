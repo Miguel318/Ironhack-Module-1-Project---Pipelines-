{
 "cells": [
  {
   "cell_type": "code",
   "execution_count": 54,
   "metadata": {},
   "outputs": [
    {
     "data": {
      "text/plain": [
       "2019"
      ]
     },
     "execution_count": 54,
     "metadata": {},
     "output_type": "execute_result"
    }
   ],
   "source": [
    "import sqlite3\n",
    "import pandas as pd\n",
    "import numpy as np\n",
    "import re\n",
    "from datetime import date\n",
    "from datetime import datetime\n",
    "\n",
    "df = sqlite3.connect('/Users/MIGUEL/Desktop/CLAB1/Ironhack-Module-1-Project---Pipelines-/data/raw/Miguel318.db')\n",
    "\n",
    "dfPI = pd.read_sql_query(\"SELECT * FROM personal_info\", df)\n",
    "\n",
    "\n",
    "#Wrangling personal_info\n",
    "    #Drop Unnamed:0 and lastName, I delete lastname column since we already have the full name and surname in rank_info\n",
    "    \n",
    "dfPI.drop(['Unnamed: 0'], axis='columns', inplace=True)\n",
    "dfPI.drop(['lastName'], axis='columns', inplace=True)\n",
    "\n",
    "    #Wrangling gender column\n",
    "    \n",
    "dfPI.gender.replace('[M]+$', 'Male', regex=True, inplace=True)\n",
    "dfPI.gender.replace('[F]+$', 'Female', regex=True, inplace=True)\n",
    "dfPI['gender'] = dfPI['gender'].astype('object').astype('str')\n",
    "#print(dfPI['gender'].value_counts())\n",
    "   \n",
    "    #Wrangling age column\n",
    "        #Correct info in age column: delete \"years old\" and change data types\n",
    "        \n",
    "dfPI.age.replace('[years old]+$', '', regex=True, inplace=True)   \n",
    "dfPI['age'] = dfPI['age'].fillna(0)   #replace NaN values with 0.0\n",
    "dfPI['age'] = dfPI['age'].astype('float').astype('int')    \n",
    "#print(dfPI['age'].value_counts())    \n",
    "#print(dfPI['age'].dtype)  \n",
    "\n",
    "#Checking Types: BORRAR DESPUES\n",
    "\n",
    "#print(dfPI['id'].dtype) / int64\n",
    "#print(dfPI['age'].dtype) / int64 \n",
    "\n",
    "    #Checking Outliers: \n",
    "\n",
    "stats = dfPI.describe().T\n",
    "stats['IQR'] = stats['75%'] - stats['25%']\n",
    "stats\n",
    "\n",
    "outliers = pd.DataFrame(columns=dfPI.columns)\n",
    "\n",
    "for col in stats.index:\n",
    "    iqr = stats.at[col,'IQR']\n",
    "    cutoff = iqr * 1.5\n",
    "    lower = stats.at[col,'25%'] - cutoff\n",
    "    upper = stats.at[col,'75%'] + cutoff\n",
    "    results = dfPI[(dfPI[col] < lower) | \n",
    "                   (dfPI[col] > upper)].copy()\n",
    "    results['Outlier'] = col\n",
    "    outliers = outliers.append(results)\n",
    "    'sort=False'\n",
    "    \n",
    "    \n",
    "outliers\n",
    "\n",
    "#Datetime - preparing \n",
    "\n",
    "now = datetime.now()\n",
    "now.year\n",
    "\n"
   ]
  },
  {
   "cell_type": "code",
   "execution_count": null,
   "metadata": {},
   "outputs": [],
   "source": []
  },
  {
   "cell_type": "code",
   "execution_count": null,
   "metadata": {},
   "outputs": [],
   "source": []
  },
  {
   "cell_type": "code",
   "execution_count": null,
   "metadata": {},
   "outputs": [],
   "source": []
  }
 ],
 "metadata": {
  "kernelspec": {
   "display_name": "Python 3",
   "language": "python",
   "name": "python3"
  },
  "language_info": {
   "codemirror_mode": {
    "name": "ipython",
    "version": 3
   },
   "file_extension": ".py",
   "mimetype": "text/x-python",
   "name": "python",
   "nbconvert_exporter": "python",
   "pygments_lexer": "ipython3",
   "version": "3.7.3"
  }
 },
 "nbformat": 4,
 "nbformat_minor": 2
}
