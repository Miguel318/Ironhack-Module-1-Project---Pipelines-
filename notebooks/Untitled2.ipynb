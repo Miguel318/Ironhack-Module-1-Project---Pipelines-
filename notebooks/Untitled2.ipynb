{
 "cells": [
  {
   "cell_type": "code",
   "execution_count": 8,
   "metadata": {},
   "outputs": [],
   "source": [
    "import pandas as pd\n",
    "import numpy as np\n",
    "import matplotlib.pylab as plt\n",
    "plt.rcdefaults()\n",
    "%matplotlib inline"
   ]
  },
  {
   "cell_type": "code",
   "execution_count": 9,
   "metadata": {},
   "outputs": [],
   "source": [
    "def plot(df, col1): #col1:worthbusd\n",
    "    graphic_1 = df[col1].hist(bins=100, figsize=(16,8))\n",
    "    plt.xlabel('Position')\n",
    "    plt.ylabel('Wealth')\n",
    "    plt.title(\"Wealth distribution\")\n",
    "    return graphic_1\n",
    "    print('ok')"
   ]
  },
  {
   "cell_type": "code",
   "execution_count": 10,
   "metadata": {},
   "outputs": [],
   "source": [
    "def plot2(df, col2, col3): #col2:\"position\", col3:\"worth BUSD\",\n",
    "    Graphic_2 = df.plot(col2, col3, kind=\"scatter\")\n",
    "    return graphic_2\n",
    "    print('o2')"
   ]
  },
  {
   "cell_type": "code",
   "execution_count": 11,
   "metadata": {},
   "outputs": [],
   "source": [
    "def plot3(df, col2, col4): #col4: \" worthChange millions USD\"\n",
    "    graphic_3 = df1.plot(col2, col4, kind=\"scatter\")\n",
    "    return graphic_3\n",
    "    print('ok3')"
   ]
  },
  {
   "cell_type": "code",
   "execution_count": 12,
   "metadata": {},
   "outputs": [],
   "source": [
    "def plo4(df, col5, col3): #col5: gender, col3:\"worth BUSD\",\n",
    "    graphic_4 = df.groupby(col5)[col3].sum().sort_values(ascending=False)/100\n",
    "    gender = ['Male', 'Female', 'None']\n",
    "    colors = ['skyblue', 'grey', 'white']\n",
    "    genders_wealth_comparison.plot(kind='pie', labels = gender, colors = colors, startangle=45, shadow=False, figsize=(16,8),  autopct='%.2f%%')\n",
    "    plt.title('Wealth comparison between genders')\n",
    "    return graphic_4\n",
    "    print('ok4')"
   ]
  },
  {
   "cell_type": "code",
   "execution_count": 13,
   "metadata": {},
   "outputs": [],
   "source": [
    "def plot5(df, col2, col3, col6):  #col6: country, col3:\"worth BUSD\")\n",
    "    graphic_5 = df.groupby([col6, col3]).agg(['count', 'mean'])\n",
    "    fig = plt.figure(figsize=(50,50))\n",
    "    df.col6[df.col2].value_counts(normalize = True).plot(kind='barh', alpha=0.5)\n",
    "    plt.title('Wealth comparison between countries')\n",
    "    return graphic_5\n",
    "    print('ok5')"
   ]
  },
  {
   "cell_type": "code",
   "execution_count": 14,
   "metadata": {},
   "outputs": [],
   "source": [
    "def plot6(df,col6):\n",
    "    colors = ['grey', 'mediumvioletred', 'gold', 'orangered', 'yellowgreen', 'r', 'skyblue', 'navy', 'grey', 'black']\n",
    "    df[col2].value_counts()[:15].plot(kind='bar', width=0.9, figsize=(20,10), color = colors)\n",
    "    plt.xlabel('Country (Top 30)')\n",
    "    plt.ylabel('Number of billionaires')\n",
    "    plt.title('Number of billionaires per country')\n",
    "    plt.savefig(\"Billionaires - Countries\")\n",
    "    return graphic_6\n",
    "    print('ok6')"
   ]
  },
  {
   "cell_type": "code",
   "execution_count": 16,
   "metadata": {},
   "outputs": [],
   "source": [
    "def save_data(graphic):\n",
    "    plt.savefig(graphic) \n",
    "    return\n",
    "    print('ok6')"
   ]
  },
  {
   "cell_type": "code",
   "execution_count": null,
   "metadata": {},
   "outputs": [],
   "source": []
  },
  {
   "cell_type": "code",
   "execution_count": null,
   "metadata": {},
   "outputs": [],
   "source": []
  }
 ],
 "metadata": {
  "kernelspec": {
   "display_name": "Python 3",
   "language": "python",
   "name": "python3"
  },
  "language_info": {
   "codemirror_mode": {
    "name": "ipython",
    "version": 3
   },
   "file_extension": ".py",
   "mimetype": "text/x-python",
   "name": "python",
   "nbconvert_exporter": "python",
   "pygments_lexer": "ipython3",
   "version": "3.7.5"
  }
 },
 "nbformat": 4,
 "nbformat_minor": 2
}
